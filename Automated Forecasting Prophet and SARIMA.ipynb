{
 "cells": [
  {
   "cell_type": "code",
   "execution_count": 46,
   "metadata": {},
   "outputs": [],
   "source": [
    "import pandas as pd\n",
    "import numpy as np\n",
    "import matplotlib.pyplot as plt\n",
    "import seaborn as sns\n",
    "import matplotlib\n",
    "from elasticsearch import Elasticsearch\n",
    "from datetime import datetime,date,timedelta \n",
    "from statsmodels.tsa.stattools import adfuller\n",
    "from pandas import Series\n",
    "from pmdarima import auto_arima\n",
    "from fbprophet import Prophet\n",
    "from sklearn.metrics import mean_absolute_error\n",
    "from sklearn.metrics import mean_squared_error\n",
    "from math import sqrt\n",
    "from itertools import product"
   ]
  },
  {
   "cell_type": "code",
   "execution_count": 47,
   "metadata": {},
   "outputs": [],
   "source": [
    "def lic_server_dataextraction_count(site,lic_name,days):\n",
    "    es = Elasticsearch(['snpstemp054'])\n",
    "    day = str(days)+'d'\n",
    "    #print(day)\n",
    "    a= str(datetime.utcnow().date() - timedelta(days=0)) + ' 0-0-0'\n",
    "    date2 = datetime.strptime(a, '%Y-%m-%d %H-%M-%S')\n",
    "    delta = timedelta(days=days)\n",
    "    date1 = date2 - delta\n",
    "    date1=date1.strftime(\"%Y-%m-%d\"'T'\"%H:%M:%S\")\n",
    "    date2=date2.strftime(\"%Y-%m-%d\"'T'\"%H:%M:%S\")\n",
    "    #print(date2)\n",
    "    #print(date1)\n",
    "    query ='{\\\n",
    "                  \"size\":1000,\\\n",
    "                  \"query\": {\\\n",
    "                    \"bool\": {\\\n",
    "                      \"must\": [\\\n",
    "                        {\\\n",
    "                          \"query_string\": {\\\n",
    "                                \"query\": \"type : \\\\\"client_info\\\\\"  AND site:'+site+' AND lic_name: \\\\\"'+lic_name+'\\\\\"  \"\\\n",
    "                          }\\\n",
    "                        },\\\n",
    "                            {\\\n",
    "                  \"range\": {\\\n",
    "                    \"@timestamp\": {\\\n",
    "                      \"gte\": \"'+date1+'\",\\\n",
    "                      \"lte\": \"'+date2+'\"\\\n",
    "                    }\\\n",
    "                  }\\\n",
    "                }\\\n",
    "                      ]\\\n",
    "                    }\\\n",
    "                  }\\\n",
    "                }'\n",
    "    data = []\n",
    "    res = es.search(index=\"lic_beat-2019\", scroll=\"2m\", body=query)\n",
    "    sid = res['_scroll_id']\n",
    "    scroll_size = res['hits']['total']\n",
    "    while (scroll_size > 0):\n",
    "        for item in res[\"hits\"][\"hits\"]:\n",
    "            hit=item['_source']\n",
    "            data.append(hit)\n",
    "        res = es.scroll(scroll_id = sid, scroll= \"2m\")\n",
    "        sid = res['_scroll_id']\n",
    "        scroll_size = len(res[\"hits\"][\"hits\"])\n",
    "    df = pd.DataFrame(data)\n",
    "    df = df.sort_values('@timestamp',ascending= False).reset_index(drop = True)\n",
    "    #print(df.head(4))\n",
    "    df['@timestamp'] = pd.to_datetime(df['@timestamp']//1000,unit='s')\n",
    "    pda = df.loc[:, ['@timestamp', 'client_count']]\n",
    "    pda.columns = ['ds','y']\n",
    "    pda = pda.set_index('ds')\n",
    "    pda1= pda.resample('H').max()  \n",
    "    pda1 = pda1.fillna(method='ffill')\n",
    "    pda1 = pda1.sort_values('ds',ascending= True)\n",
    "    pda1.y = np.where(((pda1.y - pda1.y.mean()) / pda1.y.std()).abs() > 3 ,pda1.y.median(), pda1.y)\n",
    "    return pda1"
   ]
  },
  {
   "cell_type": "code",
   "execution_count": 48,
   "metadata": {},
   "outputs": [
    {
     "name": "stderr",
     "output_type": "stream",
     "text": [
      "INFO:elasticsearch:GET http://snpstemp054:9200/lic_beat-2019/_search?scroll=2m [status:200 request:0.028s]\n",
      "INFO:elasticsearch:GET http://snpstemp054:9200/_search/scroll?scroll=2m [status:200 request:0.026s]\n",
      "INFO:elasticsearch:GET http://snpstemp054:9200/_search/scroll?scroll=2m [status:200 request:0.028s]\n",
      "INFO:elasticsearch:GET http://snpstemp054:9200/_search/scroll?scroll=2m [status:200 request:0.028s]\n",
      "INFO:elasticsearch:GET http://snpstemp054:9200/_search/scroll?scroll=2m [status:200 request:0.029s]\n",
      "INFO:elasticsearch:GET http://snpstemp054:9200/_search/scroll?scroll=2m [status:200 request:0.028s]\n",
      "INFO:elasticsearch:GET http://snpstemp054:9200/_search/scroll?scroll=2m [status:200 request:0.028s]\n",
      "INFO:elasticsearch:GET http://snpstemp054:9200/_search/scroll?scroll=2m [status:200 request:0.030s]\n",
      "INFO:elasticsearch:GET http://snpstemp054:9200/_search/scroll?scroll=2m [status:200 request:0.028s]\n",
      "INFO:elasticsearch:GET http://snpstemp054:9200/_search/scroll?scroll=2m [status:200 request:0.027s]\n",
      "INFO:elasticsearch:GET http://snpstemp054:9200/_search/scroll?scroll=2m [status:200 request:0.007s]\n"
     ]
    }
   ],
   "source": [
    "df=lic_server_dataextraction_count('us01','us01-vglic3-new',60)"
   ]
  },
  {
   "cell_type": "code",
   "execution_count": 49,
   "metadata": {},
   "outputs": [],
   "source": [
    "def transformations(df,trans):\n",
    "    \n",
    "    if trans=='log':\n",
    "        df= np.log(df)\n",
    "        return df\n",
    "    \n",
    "    elif trans=='diff':\n",
    "        diff = list()\n",
    "        for i in range(1, len(df)):\n",
    "            value = df[i] - df[i - 1]\n",
    "            diff.append(value)\n",
    "        return Series(diff[1:])\n",
    "    "
   ]
  },
  {
   "cell_type": "code",
   "execution_count": 52,
   "metadata": {},
   "outputs": [],
   "source": [
    "def stationarytest(df):\n",
    "    for i in range(0,4):\n",
    "        print(\"\\n\\nChecking stationarity for order: \",i)\n",
    "        j=0;\n",
    "        y=df.y\n",
    "        while(j<i):\n",
    "            y=transformations(y,'diff')\n",
    "            j=j+1\n",
    "        result=adfuller(y)\n",
    "        print('ADF Statistic : %f'%result[0])\n",
    "        print('pvalue : %f ' % result[1])\n",
    "        print('Critical Values:')\n",
    "        for key,value in result[4].items():\n",
    "            print('\\t%s : %3f\\n' %(key,value))\n",
    "        "
   ]
  },
  {
   "cell_type": "code",
   "execution_count": 53,
   "metadata": {},
   "outputs": [
    {
     "name": "stdout",
     "output_type": "stream",
     "text": [
      "\n",
      "\n",
      "Checking stationarity for order:  0\n",
      "ADF Statistic : -2.368540\n",
      "pvalue : 0.150813 \n",
      "Critical Values:\n",
      "\t1% : -3.438439\n",
      "\n",
      "\t5% : -2.865110\n",
      "\n",
      "\t10% : -2.568671\n",
      "\n",
      "\n",
      "\n",
      "Checking stationarity for order:  1\n",
      "ADF Statistic : -17.478061\n",
      "pvalue : 0.000000 \n",
      "Critical Values:\n",
      "\t1% : -3.438459\n",
      "\n",
      "\t5% : -2.865119\n",
      "\n",
      "\t10% : -2.568676\n",
      "\n",
      "\n",
      "\n",
      "Checking stationarity for order:  2\n",
      "ADF Statistic : -13.034440\n",
      "pvalue : 0.000000 \n",
      "Critical Values:\n",
      "\t1% : -3.438479\n",
      "\n",
      "\t5% : -2.865128\n",
      "\n",
      "\t10% : -2.568681\n",
      "\n",
      "\n",
      "\n",
      "Checking stationarity for order:  3\n",
      "ADF Statistic : -16.188416\n",
      "pvalue : 0.000000 \n",
      "Critical Values:\n",
      "\t1% : -3.438459\n",
      "\n",
      "\t5% : -2.865119\n",
      "\n",
      "\t10% : -2.568676\n",
      "\n"
     ]
    }
   ],
   "source": [
    "stationarytest(df)"
   ]
  },
  {
   "cell_type": "code",
   "execution_count": 54,
   "metadata": {},
   "outputs": [],
   "source": [
    "def performance(data,metric):\n",
    "    \n",
    "    if metric=='mae':\n",
    "        mae = mean_absolute_error(data.y,data.yhat)\n",
    "        print('MAE: %f' % mae)\n",
    "    \n",
    "    elif metric=='rmse':\n",
    "        mse = mean_squared_error(data.y,data.yhat)\n",
    "        rmse = sqrt(mse)\n",
    "        print('RMSE: %f' % rmse)\n",
    "\n",
    "    \n"
   ]
  },
  {
   "cell_type": "code",
   "execution_count": 95,
   "metadata": {},
   "outputs": [],
   "source": [
    "def arima_modeling(dftrain,dftest,seasonality,arima_diff,performance_metric):\n",
    "\n",
    "    arima_model = auto_arima(dftrain, start_p=1, start_q=1,\n",
    "                           max_p=3, max_q=3, m=seasonality,\n",
    "                           start_P=0,start_Q=0,max_P=3,max_Q=3 ,seasonal=True,\n",
    "                           d=arima_diff, D=1, trace=True,\n",
    "                           error_action='ignore',  \n",
    "                           suppress_warnings=True, \n",
    "                           stepwise=True)\n",
    "    \n",
    "    future_forecast = arima_model.predict(n_periods=len(dftest))\n",
    "    forecast=pd.DataFrame(future_forecast,columns=['yhat'])\n",
    "    dftest['ds']=dftest.index\n",
    "    dftest=dftest.reset_index(drop=True)\n",
    "    forecast['y']=dftest.y\n",
    "    print(dftest.y)\n",
    "    print(forecast)\n",
    "    plt.figure(figsize=(20,10))\n",
    "    plt.style.use('seaborn')\n",
    "    plt.plot(forecast.y,color = 'b')\n",
    "    plt.plot(forecast.yhat,color = 'r')\n",
    "    \n",
    "    metric_value=performance(dftest,performance_metric)\n",
    "    \n",
    "    return arima_model,dftest,metric_value\n",
    "    "
   ]
  },
  {
   "cell_type": "code",
   "execution_count": 102,
   "metadata": {},
   "outputs": [],
   "source": [
    "def trainprophet(dftrain,dftest,changepoint,weekly,daily):\n",
    "    \n",
    "    m=Prophet(weekly_seasonality=weekly,daily_seasonality=daily,yearly_seasonality=False,interval_width=0.95,changepoint_prior_scale=changepoint,growth=\"logistic\")\n",
    "    m.fit(dftrain)\n",
    "\n",
    "    future=m.make_future_dataframe(periods=len(dftest),freq='H')\n",
    "    future['cap']=10\n",
    "    future['floor']=1\n",
    "   \n",
    "    forecast=m.predict(future)\n",
    "    \n",
    "    return forecast,m\n",
    "\n",
    "\n",
    "\n",
    "def tunefor(dftrain,dftest):\n",
    "\n",
    "    changepointscale=[0.9,0.7,0.5,0.3]\n",
    "    weekly=[5,10]\n",
    "    dialy=[5,10]\n",
    "    params=product(changepointscale,weekly,dialy)\n",
    "    params=list(params)\n",
    "\n",
    "\n",
    "    dfnew = pd.concat([dftrain, dftest])\n",
    "    dfnew=dfnew.reset_index(drop=True)\n",
    "\n",
    "    resultable= pd.DataFrame(columns=['param','mae'])\n",
    "    count=1\n",
    "    for param in params:\n",
    "\n",
    "        print(\"Iteration:\",count)\n",
    "        count=count+1\n",
    "        forecast,forecast_model=trainprophet(dftrain,dftest,param[0],param[1],param[2])\n",
    "        forecast['y']=dfnew.y\n",
    "        split=len(dftrain)\n",
    "        mae=mean_absolute_error(forecast.y[split:],forecast.yhat[split:])\n",
    "        resultable=resultable.append({'param':param,'mae':mae},ignore_index=True)\n",
    "\n",
    "    resultable = resultable.sort_values(['mae'],ascending = True).reset_index(drop=True)\n",
    "    print(resultable)\n",
    "    paramfixed=resultable['param'][0]\n",
    "    print(paramfixed)\n",
    "\n",
    "    best_model_forecast,best_model=trainprophet(dftrain,dftest,paramfixed[0],paramfixed[1],paramfixed[2])\n",
    "    best_model_forecast['y']=dfnew.y\n",
    "    #print(\"forecast\",best_model_forecast)\n",
    "    \n",
    "    \n",
    "    return best_model,best_model_forecast[len(dftrain):]\n",
    "\n",
    "def prophet_modeling(dftrain,dftest,seasonality,performance_metric):\n",
    "    \n",
    "    dftrain['cap']=10\n",
    "    dftrain['ds']=dftrain.index\n",
    "    dftest['floor']=1\n",
    "    prophet_model,prophet_forecast=tunefor(dftrain,dftest)\n",
    "    metric_value=performance(dftest,performance_metric)\n",
    "    \n",
    "    return prophet_model,prophet_forecast,metric_value\n",
    "    \n",
    "    \n",
    "    "
   ]
  },
  {
   "cell_type": "code",
   "execution_count": 103,
   "metadata": {},
   "outputs": [],
   "source": [
    "def models(df,split,seasonality,performance_metric,arima_diff):\n",
    "    \n",
    "    dftrain=df[:round(split*len(df))]\n",
    "    dftest=df[round(split*len(df)):]\n",
    "    \n",
    "    arima_model,arima_forecast,arima_metric_value=arima_modeling(dftrain,dftest,seasonality,arima_diff,performance_metric)\n",
    "    \n",
    "    prophet_model,prophet_forecast,prophet_metric_value=prophet_modeling(dftrain,dftest,seasonality,performance_metric)\n",
    "    \n",
    "    \n",
    "    \n"
   ]
  },
  {
   "cell_type": "code",
   "execution_count": null,
   "metadata": {},
   "outputs": [],
   "source": []
  },
  {
   "cell_type": "markdown",
   "metadata": {},
   "source": []
  },
  {
   "cell_type": "code",
   "execution_count": 104,
   "metadata": {},
   "outputs": [
    {
     "name": "stdout",
     "output_type": "stream",
     "text": [
      "Fit ARIMA: order=(1, 1, 1) seasonal_order=(0, 1, 0, 2); AIC=9137.161, BIC=9155.148, Fit time=0.293 seconds\n",
      "Fit ARIMA: order=(0, 1, 0) seasonal_order=(0, 1, 0, 2); AIC=9471.323, BIC=9480.316, Fit time=0.047 seconds\n",
      "Fit ARIMA: order=(1, 1, 0) seasonal_order=(1, 1, 0, 2); AIC=9190.990, BIC=9208.977, Fit time=0.363 seconds\n",
      "Fit ARIMA: order=(0, 1, 1) seasonal_order=(0, 1, 1, 2); AIC=8869.849, BIC=8887.836, Fit time=0.415 seconds\n",
      "Fit ARIMA: order=(0, 1, 1) seasonal_order=(1, 1, 1, 2); AIC=8870.560, BIC=8893.044, Fit time=0.510 seconds\n",
      "Fit ARIMA: order=(0, 1, 1) seasonal_order=(0, 1, 0, 2); AIC=9159.886, BIC=9173.376, Fit time=0.199 seconds\n",
      "Fit ARIMA: order=(0, 1, 1) seasonal_order=(0, 1, 2, 2); AIC=8870.519, BIC=8893.003, Fit time=0.646 seconds\n",
      "Fit ARIMA: order=(0, 1, 1) seasonal_order=(1, 1, 2, 2); AIC=8873.867, BIC=8900.848, Fit time=0.570 seconds\n",
      "Fit ARIMA: order=(1, 1, 1) seasonal_order=(0, 1, 1, 2); AIC=8830.585, BIC=8853.069, Fit time=0.782 seconds\n",
      "Fit ARIMA: order=(1, 1, 0) seasonal_order=(0, 1, 1, 2); AIC=8910.785, BIC=8928.772, Fit time=0.338 seconds\n",
      "Fit ARIMA: order=(0, 1, 0) seasonal_order=(0, 1, 1, 2); AIC=9000.513, BIC=9014.004, Fit time=0.173 seconds\n",
      "Fit ARIMA: order=(1, 1, 1) seasonal_order=(1, 1, 1, 2); AIC=8821.759, BIC=8848.740, Fit time=1.247 seconds\n",
      "Fit ARIMA: order=(1, 1, 1) seasonal_order=(1, 1, 0, 2); AIC=8992.968, BIC=9015.452, Fit time=0.473 seconds\n",
      "Fit ARIMA: order=(1, 1, 1) seasonal_order=(1, 1, 2, 2); AIC=8834.529, BIC=8866.006, Fit time=1.324 seconds\n",
      "Fit ARIMA: order=(1, 1, 1) seasonal_order=(2, 1, 2, 2); AIC=8828.350, BIC=8864.324, Fit time=1.645 seconds\n",
      "Fit ARIMA: order=(1, 1, 0) seasonal_order=(1, 1, 1, 2); AIC=8874.116, BIC=8896.600, Fit time=0.435 seconds\n",
      "Fit ARIMA: order=(0, 1, 0) seasonal_order=(1, 1, 1, 2); AIC=9001.689, BIC=9019.676, Fit time=0.278 seconds\n",
      "Fit ARIMA: order=(1, 1, 1) seasonal_order=(2, 1, 1, 2); AIC=8819.660, BIC=8851.137, Fit time=1.305 seconds\n",
      "Fit ARIMA: order=(1, 1, 1) seasonal_order=(2, 1, 0, 2); AIC=8960.900, BIC=8987.880, Fit time=0.635 seconds\n",
      "Fit ARIMA: order=(1, 1, 1) seasonal_order=(3, 1, 2, 2); AIC=8823.658, BIC=8864.129, Fit time=1.729 seconds\n",
      "Fit ARIMA: order=(0, 1, 1) seasonal_order=(2, 1, 1, 2); AIC=8872.494, BIC=8899.474, Fit time=0.670 seconds\n",
      "Fit ARIMA: order=(1, 1, 0) seasonal_order=(2, 1, 1, 2); AIC=8874.167, BIC=8901.147, Fit time=0.578 seconds\n",
      "Fit ARIMA: order=(0, 1, 0) seasonal_order=(2, 1, 1, 2); AIC=9002.292, BIC=9024.776, Fit time=0.460 seconds\n",
      "Fit ARIMA: order=(1, 1, 1) seasonal_order=(3, 1, 1, 2); AIC=8816.930, BIC=8852.904, Fit time=1.876 seconds\n",
      "Fit ARIMA: order=(1, 1, 1) seasonal_order=(3, 1, 0, 2); AIC=8938.384, BIC=8969.862, Fit time=1.089 seconds\n",
      "Fit ARIMA: order=(0, 1, 1) seasonal_order=(3, 1, 1, 2); AIC=8871.320, BIC=8902.798, Fit time=1.021 seconds\n",
      "Fit ARIMA: order=(1, 1, 0) seasonal_order=(3, 1, 1, 2); AIC=8873.257, BIC=8904.735, Fit time=1.002 seconds\n",
      "Fit ARIMA: order=(0, 1, 0) seasonal_order=(3, 1, 1, 2); AIC=9004.013, BIC=9030.994, Fit time=0.888 seconds\n",
      "Total fit time: 21.022 seconds\n"
     ]
    },
    {
     "name": "stderr",
     "output_type": "stream",
     "text": [
      "/opt/conda/lib/python3.6/site-packages/ipykernel_launcher.py:13: SettingWithCopyWarning:\n",
      "\n",
      "\n",
      "A value is trying to be set on a copy of a slice from a DataFrame.\n",
      "Try using .loc[row_indexer,col_indexer] = value instead\n",
      "\n",
      "See the caveats in the documentation: http://pandas.pydata.org/pandas-docs/stable/indexing.html#indexing-view-versus-copy\n",
      "\n",
      "/opt/conda/lib/python3.6/site-packages/ipykernel_launcher.py:54: SettingWithCopyWarning:\n",
      "\n",
      "\n",
      "A value is trying to be set on a copy of a slice from a DataFrame.\n",
      "Try using .loc[row_indexer,col_indexer] = value instead\n",
      "\n",
      "See the caveats in the documentation: http://pandas.pydata.org/pandas-docs/stable/indexing.html#indexing-view-versus-copy\n",
      "\n",
      "/opt/conda/lib/python3.6/site-packages/ipykernel_launcher.py:55: SettingWithCopyWarning:\n",
      "\n",
      "\n",
      "A value is trying to be set on a copy of a slice from a DataFrame.\n",
      "Try using .loc[row_indexer,col_indexer] = value instead\n",
      "\n",
      "See the caveats in the documentation: http://pandas.pydata.org/pandas-docs/stable/indexing.html#indexing-view-versus-copy\n",
      "\n"
     ]
    },
    {
     "name": "stdout",
     "output_type": "stream",
     "text": [
      "0       28.0\n",
      "1       22.0\n",
      "2       26.0\n",
      "3      135.0\n",
      "4      374.0\n",
      "5      453.0\n",
      "6      341.0\n",
      "7      285.0\n",
      "8      269.0\n",
      "9      144.0\n",
      "10     390.0\n",
      "11     389.0\n",
      "12     319.0\n",
      "13     306.0\n",
      "14     282.0\n",
      "15     333.0\n",
      "16     260.0\n",
      "17      50.0\n",
      "18      46.0\n",
      "19      25.0\n",
      "20      18.0\n",
      "21      26.0\n",
      "22      17.0\n",
      "23      24.0\n",
      "24      28.0\n",
      "25     156.0\n",
      "26      27.0\n",
      "27     157.0\n",
      "28     442.0\n",
      "29     522.0\n",
      "       ...  \n",
      "137     24.0\n",
      "138     16.0\n",
      "139     17.0\n",
      "140     26.0\n",
      "141     15.0\n",
      "142     22.0\n",
      "143     27.0\n",
      "144     27.0\n",
      "145     24.0\n",
      "146     25.0\n",
      "147    129.0\n",
      "148    806.0\n",
      "149    867.0\n",
      "150    487.0\n",
      "151    800.0\n",
      "152    318.0\n",
      "153    337.0\n",
      "154    313.0\n",
      "155    196.0\n",
      "156    340.0\n",
      "157    213.0\n",
      "158    146.0\n",
      "159    160.0\n",
      "160     22.0\n",
      "161     18.0\n",
      "162     21.0\n",
      "163     23.0\n",
      "164     16.0\n",
      "165     14.0\n",
      "166     24.0\n",
      "Name: y, Length: 167, dtype: float64\n",
      "           yhat      y\n",
      "0     54.590227   28.0\n",
      "1     81.201458   22.0\n",
      "2     80.293046   26.0\n",
      "3     91.522421  135.0\n",
      "4     92.905754  374.0\n",
      "5     99.185463  453.0\n",
      "6     93.025573  341.0\n",
      "7     95.837715  285.0\n",
      "8     89.874760  269.0\n",
      "9     92.458785  144.0\n",
      "10    85.706297  390.0\n",
      "11    88.158091  389.0\n",
      "12    81.657372  319.0\n",
      "13    84.217734  306.0\n",
      "14    77.655785  282.0\n",
      "15    80.216249  333.0\n",
      "16    73.694455  260.0\n",
      "17    76.259862   50.0\n",
      "18    69.715320   46.0\n",
      "19    72.265851   25.0\n",
      "20    65.714480   18.0\n",
      "21    68.253211   26.0\n",
      "22    61.686712   17.0\n",
      "23    64.212031   24.0\n",
      "24    57.633701   28.0\n",
      "25    60.146592  156.0\n",
      "26    53.555357   27.0\n",
      "27    56.055651  157.0\n",
      "28    49.452054  442.0\n",
      "29    51.939891  522.0\n",
      "..          ...    ...\n",
      "137 -207.414384   24.0\n",
      "138 -214.705075   16.0\n",
      "139 -212.904303   17.0\n",
      "140 -220.207487   26.0\n",
      "141 -218.419206   15.0\n",
      "142 -225.734882   22.0\n",
      "143 -223.959093   27.0\n",
      "144 -231.287261   27.0\n",
      "145 -229.523964   24.0\n",
      "146 -236.864624   25.0\n",
      "147 -235.113820  129.0\n",
      "148 -242.466972  806.0\n",
      "149 -240.728659  867.0\n",
      "150 -248.094303  487.0\n",
      "151 -246.368483  800.0\n",
      "152 -253.746619  318.0\n",
      "153 -252.033291  337.0\n",
      "154 -259.423919  313.0\n",
      "155 -257.723082  196.0\n",
      "156 -265.126203  340.0\n",
      "157 -263.437858  213.0\n",
      "158 -270.853471  146.0\n",
      "159 -269.177618  160.0\n",
      "160 -276.605723   22.0\n",
      "161 -274.942362   18.0\n",
      "162 -282.382959   21.0\n",
      "163 -280.732091   23.0\n",
      "164 -288.185179   16.0\n",
      "165 -286.546803   14.0\n",
      "166 -294.012383   24.0\n",
      "\n",
      "[167 rows x 2 columns]\n"
     ]
    },
    {
     "name": "stderr",
     "output_type": "stream",
     "text": [
      "/opt/conda/lib/python3.6/site-packages/ipykernel_launcher.py:56: SettingWithCopyWarning:\n",
      "\n",
      "\n",
      "A value is trying to be set on a copy of a slice from a DataFrame.\n",
      "Try using .loc[row_indexer,col_indexer] = value instead\n",
      "\n",
      "See the caveats in the documentation: http://pandas.pydata.org/pandas-docs/stable/indexing.html#indexing-view-versus-copy\n",
      "\n",
      "/opt/conda/lib/python3.6/site-packages/ipykernel_launcher.py:25: FutureWarning:\n",
      "\n",
      "Sorting because non-concatenation axis is not aligned. A future version\n",
      "of pandas will change to not sort by default.\n",
      "\n",
      "To accept the future behavior, pass 'sort=False'.\n",
      "\n",
      "To retain the current behavior and silence the warning, pass 'sort=True'.\n",
      "\n",
      "\n",
      "/opt/conda/lib/python3.6/site-packages/fbprophet/forecaster.py:266: FutureWarning:\n",
      "\n",
      "'ds' is both an index level and a column label.\n",
      "Defaulting to column, but this will raise an ambiguity error in a future version\n",
      "\n"
     ]
    },
    {
     "name": "stdout",
     "output_type": "stream",
     "text": [
      "Iteration: 1\n",
      "Iteration: 2\n"
     ]
    },
    {
     "name": "stderr",
     "output_type": "stream",
     "text": [
      "/opt/conda/lib/python3.6/site-packages/fbprophet/forecaster.py:266: FutureWarning:\n",
      "\n",
      "'ds' is both an index level and a column label.\n",
      "Defaulting to column, but this will raise an ambiguity error in a future version\n",
      "\n"
     ]
    },
    {
     "name": "stdout",
     "output_type": "stream",
     "text": [
      "Iteration: 3\n"
     ]
    },
    {
     "name": "stderr",
     "output_type": "stream",
     "text": [
      "/opt/conda/lib/python3.6/site-packages/fbprophet/forecaster.py:266: FutureWarning:\n",
      "\n",
      "'ds' is both an index level and a column label.\n",
      "Defaulting to column, but this will raise an ambiguity error in a future version\n",
      "\n"
     ]
    },
    {
     "name": "stdout",
     "output_type": "stream",
     "text": [
      "Iteration: 4\n"
     ]
    },
    {
     "name": "stderr",
     "output_type": "stream",
     "text": [
      "/opt/conda/lib/python3.6/site-packages/fbprophet/forecaster.py:266: FutureWarning:\n",
      "\n",
      "'ds' is both an index level and a column label.\n",
      "Defaulting to column, but this will raise an ambiguity error in a future version\n",
      "\n"
     ]
    },
    {
     "name": "stdout",
     "output_type": "stream",
     "text": [
      "Iteration: 5\n"
     ]
    },
    {
     "name": "stderr",
     "output_type": "stream",
     "text": [
      "/opt/conda/lib/python3.6/site-packages/fbprophet/forecaster.py:266: FutureWarning:\n",
      "\n",
      "'ds' is both an index level and a column label.\n",
      "Defaulting to column, but this will raise an ambiguity error in a future version\n",
      "\n"
     ]
    },
    {
     "name": "stdout",
     "output_type": "stream",
     "text": [
      "Iteration: 6\n"
     ]
    },
    {
     "name": "stderr",
     "output_type": "stream",
     "text": [
      "/opt/conda/lib/python3.6/site-packages/fbprophet/forecaster.py:266: FutureWarning:\n",
      "\n",
      "'ds' is both an index level and a column label.\n",
      "Defaulting to column, but this will raise an ambiguity error in a future version\n",
      "\n"
     ]
    },
    {
     "name": "stdout",
     "output_type": "stream",
     "text": [
      "Iteration: 7\n"
     ]
    },
    {
     "name": "stderr",
     "output_type": "stream",
     "text": [
      "/opt/conda/lib/python3.6/site-packages/fbprophet/forecaster.py:266: FutureWarning:\n",
      "\n",
      "'ds' is both an index level and a column label.\n",
      "Defaulting to column, but this will raise an ambiguity error in a future version\n",
      "\n"
     ]
    },
    {
     "name": "stdout",
     "output_type": "stream",
     "text": [
      "Iteration: 8\n"
     ]
    },
    {
     "name": "stderr",
     "output_type": "stream",
     "text": [
      "/opt/conda/lib/python3.6/site-packages/fbprophet/forecaster.py:266: FutureWarning:\n",
      "\n",
      "'ds' is both an index level and a column label.\n",
      "Defaulting to column, but this will raise an ambiguity error in a future version\n",
      "\n"
     ]
    },
    {
     "name": "stdout",
     "output_type": "stream",
     "text": [
      "Iteration: 9\n"
     ]
    },
    {
     "name": "stderr",
     "output_type": "stream",
     "text": [
      "/opt/conda/lib/python3.6/site-packages/fbprophet/forecaster.py:266: FutureWarning:\n",
      "\n",
      "'ds' is both an index level and a column label.\n",
      "Defaulting to column, but this will raise an ambiguity error in a future version\n",
      "\n"
     ]
    },
    {
     "name": "stdout",
     "output_type": "stream",
     "text": [
      "Iteration: 10\n"
     ]
    },
    {
     "name": "stderr",
     "output_type": "stream",
     "text": [
      "/opt/conda/lib/python3.6/site-packages/fbprophet/forecaster.py:266: FutureWarning:\n",
      "\n",
      "'ds' is both an index level and a column label.\n",
      "Defaulting to column, but this will raise an ambiguity error in a future version\n",
      "\n"
     ]
    },
    {
     "name": "stdout",
     "output_type": "stream",
     "text": [
      "Iteration: 11\n"
     ]
    },
    {
     "name": "stderr",
     "output_type": "stream",
     "text": [
      "/opt/conda/lib/python3.6/site-packages/fbprophet/forecaster.py:266: FutureWarning:\n",
      "\n",
      "'ds' is both an index level and a column label.\n",
      "Defaulting to column, but this will raise an ambiguity error in a future version\n",
      "\n"
     ]
    },
    {
     "name": "stdout",
     "output_type": "stream",
     "text": [
      "Iteration: 12\n"
     ]
    },
    {
     "name": "stderr",
     "output_type": "stream",
     "text": [
      "/opt/conda/lib/python3.6/site-packages/fbprophet/forecaster.py:266: FutureWarning:\n",
      "\n",
      "'ds' is both an index level and a column label.\n",
      "Defaulting to column, but this will raise an ambiguity error in a future version\n",
      "\n"
     ]
    },
    {
     "name": "stdout",
     "output_type": "stream",
     "text": [
      "Iteration: 13\n"
     ]
    },
    {
     "name": "stderr",
     "output_type": "stream",
     "text": [
      "/opt/conda/lib/python3.6/site-packages/fbprophet/forecaster.py:266: FutureWarning:\n",
      "\n",
      "'ds' is both an index level and a column label.\n",
      "Defaulting to column, but this will raise an ambiguity error in a future version\n",
      "\n"
     ]
    },
    {
     "name": "stdout",
     "output_type": "stream",
     "text": [
      "Iteration: 14\n"
     ]
    },
    {
     "name": "stderr",
     "output_type": "stream",
     "text": [
      "/opt/conda/lib/python3.6/site-packages/fbprophet/forecaster.py:266: FutureWarning:\n",
      "\n",
      "'ds' is both an index level and a column label.\n",
      "Defaulting to column, but this will raise an ambiguity error in a future version\n",
      "\n"
     ]
    },
    {
     "name": "stdout",
     "output_type": "stream",
     "text": [
      "Iteration: 15\n"
     ]
    },
    {
     "name": "stderr",
     "output_type": "stream",
     "text": [
      "/opt/conda/lib/python3.6/site-packages/fbprophet/forecaster.py:266: FutureWarning:\n",
      "\n",
      "'ds' is both an index level and a column label.\n",
      "Defaulting to column, but this will raise an ambiguity error in a future version\n",
      "\n"
     ]
    },
    {
     "name": "stdout",
     "output_type": "stream",
     "text": [
      "Iteration: 16\n"
     ]
    },
    {
     "name": "stderr",
     "output_type": "stream",
     "text": [
      "/opt/conda/lib/python3.6/site-packages/fbprophet/forecaster.py:266: FutureWarning:\n",
      "\n",
      "'ds' is both an index level and a column label.\n",
      "Defaulting to column, but this will raise an ambiguity error in a future version\n",
      "\n"
     ]
    },
    {
     "name": "stdout",
     "output_type": "stream",
     "text": [
      "            param         mae\n",
      "0     (0.9, 5, 5)  230.435215\n",
      "1     (0.3, 5, 5)  230.460564\n",
      "2     (0.5, 5, 5)  230.485336\n",
      "3    (0.5, 10, 5)  230.495408\n",
      "4     (0.7, 5, 5)  230.522641\n",
      "5    (0.7, 10, 5)  230.578217\n",
      "6    (0.3, 10, 5)  230.586195\n",
      "7    (0.9, 10, 5)  230.600235\n",
      "8    (0.5, 5, 10)  230.936272\n",
      "9    (0.7, 5, 10)  230.987200\n",
      "10   (0.3, 5, 10)  230.996789\n",
      "11   (0.9, 5, 10)  231.027035\n",
      "12  (0.5, 10, 10)  231.080076\n",
      "13  (0.3, 10, 10)  231.134412\n",
      "14  (0.9, 10, 10)  231.155973\n",
      "15  (0.7, 10, 10)  231.181316\n",
      "(0.9, 5, 5)\n"
     ]
    },
    {
     "name": "stderr",
     "output_type": "stream",
     "text": [
      "/opt/conda/lib/python3.6/site-packages/fbprophet/forecaster.py:266: FutureWarning:\n",
      "\n",
      "'ds' is both an index level and a column label.\n",
      "Defaulting to column, but this will raise an ambiguity error in a future version\n",
      "\n"
     ]
    },
    {
     "data": {
      "image/png": "[encoded data removed]",
      "text/plain": [
       "<Figure size 1440x720 with 1 Axes>"
      ]
     },
     "metadata": {},
     "output_type": "display_data"
    }
   ],
   "source": [
    "model=models(df,0.8,2,'h',1)"
   ]
  },
  {
   "cell_type": "code",
   "execution_count": null,
   "metadata": {},
   "outputs": [],
   "source": []
  }
 ],
 "metadata": {
  "kernelspec": {
   "display_name": "Python 3",
   "language": "python",
   "name": "python3"
  },
  "language_info": {
   "codemirror_mode": {
    "name": "ipython",
    "version": 3
   },
   "file_extension": ".py",
   "mimetype": "text/x-python",
   "name": "python",
   "nbconvert_exporter": "python",
   "pygments_lexer": "ipython3",
   "version": "3.8.8"
  }
 },
 "nbformat": 4,
 "nbformat_minor": 2
}
